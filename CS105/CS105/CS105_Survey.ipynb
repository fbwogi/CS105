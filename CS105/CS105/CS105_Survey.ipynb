{
 "cells": [
  {
   "cell_type": "markdown",
   "metadata": {},
   "source": [
    "# CS105 Survey\n",
    "\n",
    "Obtained from the survey, provided to both CS105 and CS111, we have information ... (ANSWER QUESTION 1 HERE)\n",
    "\n",
    "We would like to know... (ANSWER QUESTION 2 HERE)\n",
    "\n",
    "NOTE (may need to be edited): We can either answer question 1 and 2 here or below"
   ]
  },
  {
   "cell_type": "markdown",
   "metadata": {},
   "source": [
    "# Question 1\n",
    "What information do we have?"
   ]
  },
  {
   "cell_type": "markdown",
   "metadata": {},
   "source": [
    "# Question 2\n",
    "What would we like to know about the class?"
   ]
  },
  {
   "cell_type": "markdown",
   "metadata": {},
   "source": [
    "# Data Cleaning and Pre-processing"
   ]
  },
  {
   "cell_type": "code",
   "execution_count": 1,
   "metadata": {},
   "outputs": [],
   "source": [
    "# import necessary libraries\n",
    "import pandas as pd\n",
    "import numpy as np\n",
    "import matplotlib.pyplot as plt\n",
    "import seaborn as sns"
   ]
  },
  {
   "cell_type": "code",
   "execution_count": 2,
   "metadata": {},
   "outputs": [
    {
     "name": "stderr",
     "output_type": "stream",
     "text": [
      "<ipython-input-2-4f006986792e>:10: SettingWithCopyWarning: \n",
      "A value is trying to be set on a copy of a slice from a DataFrame.\n",
      "Try using .loc[row_indexer,col_indexer] = value instead\n",
      "\n",
      "See the caveats in the documentation: https://pandas.pydata.org/pandas-docs/stable/user_guide/indexing.html#returning-a-view-versus-a-copy\n",
      "  data[col] = data[col].str.split(', ')\n"
     ]
    },
    {
     "data": {
      "text/html": [
       "<div>\n",
       "<style scoped>\n",
       "    .dataframe tbody tr th:only-of-type {\n",
       "        vertical-align: middle;\n",
       "    }\n",
       "\n",
       "    .dataframe tbody tr th {\n",
       "        vertical-align: top;\n",
       "    }\n",
       "\n",
       "    .dataframe thead th {\n",
       "        text-align: right;\n",
       "    }\n",
       "</style>\n",
       "<table border=\"1\" class=\"dataframe\">\n",
       "  <thead>\n",
       "    <tr style=\"text-align: right;\">\n",
       "      <th></th>\n",
       "      <th>Gender</th>\n",
       "      <th>Academic_Year</th>\n",
       "      <th>Major</th>\n",
       "      <th>GPA</th>\n",
       "      <th>After_COVID_GPA</th>\n",
       "      <th>Units_Enrolled</th>\n",
       "      <th>Academic_Progress</th>\n",
       "      <th>Before_Covid_Living</th>\n",
       "      <th>Learning_Type</th>\n",
       "      <th>Participation</th>\n",
       "      <th>Video_Games</th>\n",
       "      <th>Digital_Media</th>\n",
       "      <th>Social_Media</th>\n",
       "      <th>Other</th>\n",
       "      <th>Attendance</th>\n",
       "      <th>Watch_Recordings</th>\n",
       "      <th>Notifications</th>\n",
       "      <th>Online_Rating</th>\n",
       "      <th>Change</th>\n",
       "    </tr>\n",
       "  </thead>\n",
       "  <tbody>\n",
       "    <tr>\n",
       "      <th>0</th>\n",
       "      <td>Female</td>\n",
       "      <td>Sophomore</td>\n",
       "      <td>CS</td>\n",
       "      <td>3.7 - 4.0</td>\n",
       "      <td>Decrease</td>\n",
       "      <td>4</td>\n",
       "      <td>NaN</td>\n",
       "      <td>UCR Dorms</td>\n",
       "      <td>In-person (on-campus lecture)</td>\n",
       "      <td>[Answer polls/questions (when mandatory for pa...</td>\n",
       "      <td>NaN</td>\n",
       "      <td>NaN</td>\n",
       "      <td>NaN</td>\n",
       "      <td>[work from another class]</td>\n",
       "      <td>100</td>\n",
       "      <td>NaN</td>\n",
       "      <td>1</td>\n",
       "      <td>3</td>\n",
       "      <td>More office hours</td>\n",
       "    </tr>\n",
       "    <tr>\n",
       "      <th>1</th>\n",
       "      <td>Male</td>\n",
       "      <td>Sophomore</td>\n",
       "      <td>Computer Science with Business Applications</td>\n",
       "      <td>3.3 - 3.69</td>\n",
       "      <td>Increase</td>\n",
       "      <td>13</td>\n",
       "      <td>3.0</td>\n",
       "      <td>UCR Dorms</td>\n",
       "      <td>In-person (on-campus lecture)</td>\n",
       "      <td>[Answer polls/questions (when mandatory for pa...</td>\n",
       "      <td>1.0</td>\n",
       "      <td>3.0</td>\n",
       "      <td>2.0</td>\n",
       "      <td>[Eating food]</td>\n",
       "      <td>3</td>\n",
       "      <td>I tell myself that I will watch the recorded l...</td>\n",
       "      <td>5</td>\n",
       "      <td>1</td>\n",
       "      <td>More enthusiasm from the professors, it gets v...</td>\n",
       "    </tr>\n",
       "    <tr>\n",
       "      <th>2</th>\n",
       "      <td>Male</td>\n",
       "      <td>Sophomore</td>\n",
       "      <td>CSBA</td>\n",
       "      <td>3.7 - 4.0</td>\n",
       "      <td>Same</td>\n",
       "      <td>4</td>\n",
       "      <td>5.0</td>\n",
       "      <td>UCR Dorms</td>\n",
       "      <td>In-person (on-campus lecture)</td>\n",
       "      <td>[Answer polls/questions (when mandatory for pa...</td>\n",
       "      <td>1.0</td>\n",
       "      <td>2.0</td>\n",
       "      <td>2.0</td>\n",
       "      <td>[Eating, work from another class]</td>\n",
       "      <td>4</td>\n",
       "      <td>I tell myself that I will watch the recorded l...</td>\n",
       "      <td>3</td>\n",
       "      <td>2</td>\n",
       "      <td>Get me vaccinated so I can leave the house :)</td>\n",
       "    </tr>\n",
       "    <tr>\n",
       "      <th>3</th>\n",
       "      <td>Male</td>\n",
       "      <td>Sophomore</td>\n",
       "      <td>Computer Science</td>\n",
       "      <td>3.7 - 4.0</td>\n",
       "      <td>Decrease</td>\n",
       "      <td>16</td>\n",
       "      <td>3.0</td>\n",
       "      <td>UCR Dorms</td>\n",
       "      <td>In-person (on-campus lecture)</td>\n",
       "      <td>[Answer polls/questions (when mandatory for pa...</td>\n",
       "      <td>1.0</td>\n",
       "      <td>2.0</td>\n",
       "      <td>2.0</td>\n",
       "      <td>[Work from another class]</td>\n",
       "      <td>5</td>\n",
       "      <td>Both</td>\n",
       "      <td>5</td>\n",
       "      <td>3</td>\n",
       "      <td>Try to make it more interactive and attention-...</td>\n",
       "    </tr>\n",
       "    <tr>\n",
       "      <th>4</th>\n",
       "      <td>Female</td>\n",
       "      <td>Sophomore</td>\n",
       "      <td>Computer Science</td>\n",
       "      <td>3.3 - 3.69</td>\n",
       "      <td>Increase</td>\n",
       "      <td>12</td>\n",
       "      <td>5.0</td>\n",
       "      <td>UCR Dorms</td>\n",
       "      <td>In-person (on-campus lecture)</td>\n",
       "      <td>[Answer polls/questions (when mandatory for pa...</td>\n",
       "      <td>1.0</td>\n",
       "      <td>1.0</td>\n",
       "      <td>1.0</td>\n",
       "      <td>[Instagram]</td>\n",
       "      <td>5</td>\n",
       "      <td>I tell myself that I will watch the recorded l...</td>\n",
       "      <td>3</td>\n",
       "      <td>4</td>\n",
       "      <td>more interactive</td>\n",
       "    </tr>\n",
       "  </tbody>\n",
       "</table>\n",
       "</div>"
      ],
      "text/plain": [
       "   Gender Academic_Year                                        Major  \\\n",
       "0  Female     Sophomore                                           CS   \n",
       "1    Male     Sophomore  Computer Science with Business Applications   \n",
       "2    Male     Sophomore                                         CSBA   \n",
       "3    Male     Sophomore                             Computer Science   \n",
       "4  Female     Sophomore                             Computer Science   \n",
       "\n",
       "          GPA After_COVID_GPA  Units_Enrolled  Academic_Progress  \\\n",
       "0   3.7 - 4.0        Decrease               4                NaN   \n",
       "1  3.3 - 3.69        Increase              13                3.0   \n",
       "2   3.7 - 4.0            Same               4                5.0   \n",
       "3   3.7 - 4.0        Decrease              16                3.0   \n",
       "4  3.3 - 3.69        Increase              12                5.0   \n",
       "\n",
       "  Before_Covid_Living                  Learning_Type  \\\n",
       "0           UCR Dorms  In-person (on-campus lecture)   \n",
       "1           UCR Dorms  In-person (on-campus lecture)   \n",
       "2           UCR Dorms  In-person (on-campus lecture)   \n",
       "3           UCR Dorms  In-person (on-campus lecture)   \n",
       "4           UCR Dorms  In-person (on-campus lecture)   \n",
       "\n",
       "                                       Participation  Video_Games  \\\n",
       "0  [Answer polls/questions (when mandatory for pa...          NaN   \n",
       "1  [Answer polls/questions (when mandatory for pa...          1.0   \n",
       "2  [Answer polls/questions (when mandatory for pa...          1.0   \n",
       "3  [Answer polls/questions (when mandatory for pa...          1.0   \n",
       "4  [Answer polls/questions (when mandatory for pa...          1.0   \n",
       "\n",
       "   Digital_Media  Social_Media                              Other  Attendance  \\\n",
       "0            NaN           NaN          [work from another class]         100   \n",
       "1            3.0           2.0                      [Eating food]           3   \n",
       "2            2.0           2.0  [Eating, work from another class]           4   \n",
       "3            2.0           2.0          [Work from another class]           5   \n",
       "4            1.0           1.0                        [Instagram]           5   \n",
       "\n",
       "                                    Watch_Recordings  Notifications  \\\n",
       "0                                                NaN              1   \n",
       "1  I tell myself that I will watch the recorded l...              5   \n",
       "2  I tell myself that I will watch the recorded l...              3   \n",
       "3                                               Both              5   \n",
       "4  I tell myself that I will watch the recorded l...              3   \n",
       "\n",
       "   Online_Rating                                             Change  \n",
       "0              3                                  More office hours  \n",
       "1              1  More enthusiasm from the professors, it gets v...  \n",
       "2              2      Get me vaccinated so I can leave the house :)  \n",
       "3              3  Try to make it more interactive and attention-...  \n",
       "4              4                                   more interactive  "
      ]
     },
     "execution_count": 2,
     "metadata": {},
     "output_type": "execute_result"
    }
   ],
   "source": [
    "# read in metadata\n",
    "raw_data = pd.read_csv(\"CS105_Survey.csv\")\n",
    "raw_data.head()\n",
    "\n",
    "\n",
    "\n",
    "# convert string to list of strings\n",
    "def string_to_list_col(data,columns):\n",
    "    for col in columns:\n",
    "        data[col] = data[col].str.split(', ')\n",
    "    return data\n",
    "\n",
    "def clean_data(data, columns):\n",
    "    # clean the data\n",
    "    data = data.iloc[:,[1,3,4,5,6,7,9,16,19,20,21,22,23,24,25,26,27,28,29]]\n",
    "    data.columns=[\"Gender\",\"Academic_Year\",\"Major\",\"GPA\",\"After_COVID_GPA\",\"Units_Enrolled\",\n",
    "                  \"Academic_Progress\",\"Before_Covid_Living\",\"Learning_Type\",\"Participation\",\n",
    "                    \"Video_Games\",\"Digital_Media\",\"Social_Media\",\"Other\",\"Attendance\",\"Watch_Recordings\",\n",
    "                    \"Notifications\",\"Online_Rating\",\"Change\"]\n",
    "    data = string_to_list_col(data, columns)\n",
    "    return data\n",
    "\n",
    "cleaned_data = clean_data(raw_data, [\"Participation\",\"Other\"])\n",
    "cleaned_data.head()"
   ]
  },
  {
   "cell_type": "markdown",
   "metadata": {},
   "source": [
    "# Question 3: Data Visualization and Descriptive Statistics\n",
    "Explore the data (Generate statistics, perform visualizations). Explain what you are computing (mean, SD, ...), and then\n",
    "compute using Python. Create some visualizations (at least 5, and at least 3 must be of different types)."
   ]
  },
  {
   "cell_type": "code",
   "execution_count": 3,
   "metadata": {},
   "outputs": [
    {
     "data": {
      "text/html": [
       "<div>\n",
       "<style scoped>\n",
       "    .dataframe tbody tr th:only-of-type {\n",
       "        vertical-align: middle;\n",
       "    }\n",
       "\n",
       "    .dataframe tbody tr th {\n",
       "        vertical-align: top;\n",
       "    }\n",
       "\n",
       "    .dataframe thead th {\n",
       "        text-align: right;\n",
       "    }\n",
       "</style>\n",
       "<table border=\"1\" class=\"dataframe\">\n",
       "  <thead>\n",
       "    <tr style=\"text-align: right;\">\n",
       "      <th></th>\n",
       "      <th>Gender</th>\n",
       "      <th>Academic_Year</th>\n",
       "      <th>Major</th>\n",
       "      <th>GPA</th>\n",
       "      <th>After_COVID_GPA</th>\n",
       "      <th>Units_Enrolled</th>\n",
       "      <th>Academic_Progress</th>\n",
       "      <th>Before_Covid_Living</th>\n",
       "      <th>Learning_Type</th>\n",
       "      <th>Participation</th>\n",
       "      <th>Video_Games</th>\n",
       "      <th>Digital_Media</th>\n",
       "      <th>Social_Media</th>\n",
       "      <th>Other</th>\n",
       "      <th>Attendance</th>\n",
       "      <th>Watch_Recordings</th>\n",
       "      <th>Notifications</th>\n",
       "      <th>Online_Rating</th>\n",
       "      <th>Change</th>\n",
       "    </tr>\n",
       "  </thead>\n",
       "  <tbody>\n",
       "    <tr>\n",
       "      <th>0</th>\n",
       "      <td>Female</td>\n",
       "      <td>Sophomore</td>\n",
       "      <td>CS</td>\n",
       "      <td>3.7 - 4.0</td>\n",
       "      <td>Decrease</td>\n",
       "      <td>4</td>\n",
       "      <td>NaN</td>\n",
       "      <td>UCR Dorms</td>\n",
       "      <td>In-person (on-campus lecture)</td>\n",
       "      <td>[Answer polls/questions (when mandatory for pa...</td>\n",
       "      <td>NaN</td>\n",
       "      <td>NaN</td>\n",
       "      <td>NaN</td>\n",
       "      <td>[work from another class]</td>\n",
       "      <td>100</td>\n",
       "      <td>NaN</td>\n",
       "      <td>1</td>\n",
       "      <td>3</td>\n",
       "      <td>More office hours</td>\n",
       "    </tr>\n",
       "    <tr>\n",
       "      <th>1</th>\n",
       "      <td>Male</td>\n",
       "      <td>Sophomore</td>\n",
       "      <td>Computer Science with Business Applications</td>\n",
       "      <td>3.3 - 3.69</td>\n",
       "      <td>Increase</td>\n",
       "      <td>13</td>\n",
       "      <td>3.0</td>\n",
       "      <td>UCR Dorms</td>\n",
       "      <td>In-person (on-campus lecture)</td>\n",
       "      <td>[Answer polls/questions (when mandatory for pa...</td>\n",
       "      <td>1.0</td>\n",
       "      <td>3.0</td>\n",
       "      <td>2.0</td>\n",
       "      <td>[Eating food]</td>\n",
       "      <td>3</td>\n",
       "      <td>I tell myself that I will watch the recorded l...</td>\n",
       "      <td>5</td>\n",
       "      <td>1</td>\n",
       "      <td>More enthusiasm from the professors, it gets v...</td>\n",
       "    </tr>\n",
       "    <tr>\n",
       "      <th>2</th>\n",
       "      <td>Male</td>\n",
       "      <td>Sophomore</td>\n",
       "      <td>CSBA</td>\n",
       "      <td>3.7 - 4.0</td>\n",
       "      <td>Same</td>\n",
       "      <td>4</td>\n",
       "      <td>5.0</td>\n",
       "      <td>UCR Dorms</td>\n",
       "      <td>In-person (on-campus lecture)</td>\n",
       "      <td>[Answer polls/questions (when mandatory for pa...</td>\n",
       "      <td>1.0</td>\n",
       "      <td>2.0</td>\n",
       "      <td>2.0</td>\n",
       "      <td>[Eating, work from another class]</td>\n",
       "      <td>4</td>\n",
       "      <td>I tell myself that I will watch the recorded l...</td>\n",
       "      <td>3</td>\n",
       "      <td>2</td>\n",
       "      <td>Get me vaccinated so I can leave the house :)</td>\n",
       "    </tr>\n",
       "    <tr>\n",
       "      <th>3</th>\n",
       "      <td>Male</td>\n",
       "      <td>Sophomore</td>\n",
       "      <td>Computer Science</td>\n",
       "      <td>3.7 - 4.0</td>\n",
       "      <td>Decrease</td>\n",
       "      <td>16</td>\n",
       "      <td>3.0</td>\n",
       "      <td>UCR Dorms</td>\n",
       "      <td>In-person (on-campus lecture)</td>\n",
       "      <td>[Answer polls/questions (when mandatory for pa...</td>\n",
       "      <td>1.0</td>\n",
       "      <td>2.0</td>\n",
       "      <td>2.0</td>\n",
       "      <td>[Work from another class]</td>\n",
       "      <td>5</td>\n",
       "      <td>Both</td>\n",
       "      <td>5</td>\n",
       "      <td>3</td>\n",
       "      <td>Try to make it more interactive and attention-...</td>\n",
       "    </tr>\n",
       "    <tr>\n",
       "      <th>4</th>\n",
       "      <td>Female</td>\n",
       "      <td>Sophomore</td>\n",
       "      <td>Computer Science</td>\n",
       "      <td>3.3 - 3.69</td>\n",
       "      <td>Increase</td>\n",
       "      <td>12</td>\n",
       "      <td>5.0</td>\n",
       "      <td>UCR Dorms</td>\n",
       "      <td>In-person (on-campus lecture)</td>\n",
       "      <td>[Answer polls/questions (when mandatory for pa...</td>\n",
       "      <td>1.0</td>\n",
       "      <td>1.0</td>\n",
       "      <td>1.0</td>\n",
       "      <td>[Instagram]</td>\n",
       "      <td>5</td>\n",
       "      <td>I tell myself that I will watch the recorded l...</td>\n",
       "      <td>3</td>\n",
       "      <td>4</td>\n",
       "      <td>more interactive</td>\n",
       "    </tr>\n",
       "    <tr>\n",
       "      <th>...</th>\n",
       "      <td>...</td>\n",
       "      <td>...</td>\n",
       "      <td>...</td>\n",
       "      <td>...</td>\n",
       "      <td>...</td>\n",
       "      <td>...</td>\n",
       "      <td>...</td>\n",
       "      <td>...</td>\n",
       "      <td>...</td>\n",
       "      <td>...</td>\n",
       "      <td>...</td>\n",
       "      <td>...</td>\n",
       "      <td>...</td>\n",
       "      <td>...</td>\n",
       "      <td>...</td>\n",
       "      <td>...</td>\n",
       "      <td>...</td>\n",
       "      <td>...</td>\n",
       "      <td>...</td>\n",
       "    </tr>\n",
       "    <tr>\n",
       "      <th>74</th>\n",
       "      <td>Male</td>\n",
       "      <td>Sophomore</td>\n",
       "      <td>CS</td>\n",
       "      <td>3.7 - 4.0</td>\n",
       "      <td>Increase</td>\n",
       "      <td>17</td>\n",
       "      <td>4.0</td>\n",
       "      <td>UCR Dorms</td>\n",
       "      <td>In-person (on-campus lecture)</td>\n",
       "      <td>[Answer polls/questions (when mandatory for pa...</td>\n",
       "      <td>1.0</td>\n",
       "      <td>1.0</td>\n",
       "      <td>3.0</td>\n",
       "      <td>[Sleep]</td>\n",
       "      <td>5</td>\n",
       "      <td>Both</td>\n",
       "      <td>5</td>\n",
       "      <td>2</td>\n",
       "      <td>More engaging/interesting</td>\n",
       "    </tr>\n",
       "    <tr>\n",
       "      <th>75</th>\n",
       "      <td>Male</td>\n",
       "      <td>Sophomore</td>\n",
       "      <td>ENCS</td>\n",
       "      <td>3.3 - 3.69</td>\n",
       "      <td>Same</td>\n",
       "      <td>13</td>\n",
       "      <td>2.0</td>\n",
       "      <td>UCR Dorms</td>\n",
       "      <td>In-person (on-campus lecture)</td>\n",
       "      <td>[Answer polls/questions (when mandatory for pa...</td>\n",
       "      <td>1.0</td>\n",
       "      <td>2.0</td>\n",
       "      <td>2.0</td>\n",
       "      <td>[None]</td>\n",
       "      <td>4</td>\n",
       "      <td>Both</td>\n",
       "      <td>4</td>\n",
       "      <td>3</td>\n",
       "      <td>More student interaction</td>\n",
       "    </tr>\n",
       "    <tr>\n",
       "      <th>76</th>\n",
       "      <td>Male</td>\n",
       "      <td>Senior/Senior+</td>\n",
       "      <td>Computer Science</td>\n",
       "      <td>3.3 - 3.69</td>\n",
       "      <td>Same</td>\n",
       "      <td>12</td>\n",
       "      <td>3.0</td>\n",
       "      <td>On-campus Apartments</td>\n",
       "      <td>In-person (on-campus lecture)</td>\n",
       "      <td>[Answer polls/questions (when mandatory for pa...</td>\n",
       "      <td>2.0</td>\n",
       "      <td>3.0</td>\n",
       "      <td>1.0</td>\n",
       "      <td>[Work]</td>\n",
       "      <td>5</td>\n",
       "      <td>I tell myself that I will watch the recorded l...</td>\n",
       "      <td>2</td>\n",
       "      <td>2</td>\n",
       "      <td>Have more graders/TAs for labs</td>\n",
       "    </tr>\n",
       "    <tr>\n",
       "      <th>77</th>\n",
       "      <td>Male</td>\n",
       "      <td>Senior/Senior+</td>\n",
       "      <td>Computer Science</td>\n",
       "      <td>3.7 - 4.0</td>\n",
       "      <td>Same</td>\n",
       "      <td>12</td>\n",
       "      <td>4.0</td>\n",
       "      <td>Off-campus Apartments</td>\n",
       "      <td>In-person (on-campus lecture)</td>\n",
       "      <td>[Answer polls/questions (when mandatory for pa...</td>\n",
       "      <td>4.0</td>\n",
       "      <td>4.0</td>\n",
       "      <td>4.0</td>\n",
       "      <td>[no]</td>\n",
       "      <td>4</td>\n",
       "      <td>I actually watch the recorded lectures</td>\n",
       "      <td>4</td>\n",
       "      <td>4</td>\n",
       "      <td>no</td>\n",
       "    </tr>\n",
       "    <tr>\n",
       "      <th>78</th>\n",
       "      <td>Male</td>\n",
       "      <td>Sophomore</td>\n",
       "      <td>CEN</td>\n",
       "      <td>3.3 - 3.69</td>\n",
       "      <td>Decrease</td>\n",
       "      <td>18</td>\n",
       "      <td>2.0</td>\n",
       "      <td>Local Resident prior</td>\n",
       "      <td>In-person (on-campus lecture)</td>\n",
       "      <td>[Answer polls/questions (when mandatory for pa...</td>\n",
       "      <td>1.0</td>\n",
       "      <td>1.0</td>\n",
       "      <td>2.0</td>\n",
       "      <td>[Eat, work from other class,chores]</td>\n",
       "      <td>4</td>\n",
       "      <td>I actually watch the recorded lectures</td>\n",
       "      <td>4</td>\n",
       "      <td>2</td>\n",
       "      <td>More interaction with professors and not so mu...</td>\n",
       "    </tr>\n",
       "  </tbody>\n",
       "</table>\n",
       "<p>79 rows × 19 columns</p>\n",
       "</div>"
      ],
      "text/plain": [
       "    Gender   Academic_Year                                        Major  \\\n",
       "0   Female       Sophomore                                           CS   \n",
       "1     Male       Sophomore  Computer Science with Business Applications   \n",
       "2     Male       Sophomore                                         CSBA   \n",
       "3     Male       Sophomore                             Computer Science   \n",
       "4   Female       Sophomore                             Computer Science   \n",
       "..     ...             ...                                          ...   \n",
       "74    Male       Sophomore                                           CS   \n",
       "75    Male       Sophomore                                         ENCS   \n",
       "76    Male  Senior/Senior+                             Computer Science   \n",
       "77    Male  Senior/Senior+                             Computer Science   \n",
       "78    Male       Sophomore                                          CEN   \n",
       "\n",
       "           GPA After_COVID_GPA  Units_Enrolled  Academic_Progress  \\\n",
       "0    3.7 - 4.0        Decrease               4                NaN   \n",
       "1   3.3 - 3.69        Increase              13                3.0   \n",
       "2    3.7 - 4.0            Same               4                5.0   \n",
       "3    3.7 - 4.0        Decrease              16                3.0   \n",
       "4   3.3 - 3.69        Increase              12                5.0   \n",
       "..         ...             ...             ...                ...   \n",
       "74   3.7 - 4.0        Increase              17                4.0   \n",
       "75  3.3 - 3.69            Same              13                2.0   \n",
       "76  3.3 - 3.69            Same              12                3.0   \n",
       "77   3.7 - 4.0            Same              12                4.0   \n",
       "78  3.3 - 3.69        Decrease              18                2.0   \n",
       "\n",
       "      Before_Covid_Living                  Learning_Type  \\\n",
       "0               UCR Dorms  In-person (on-campus lecture)   \n",
       "1               UCR Dorms  In-person (on-campus lecture)   \n",
       "2               UCR Dorms  In-person (on-campus lecture)   \n",
       "3               UCR Dorms  In-person (on-campus lecture)   \n",
       "4               UCR Dorms  In-person (on-campus lecture)   \n",
       "..                    ...                            ...   \n",
       "74              UCR Dorms  In-person (on-campus lecture)   \n",
       "75              UCR Dorms  In-person (on-campus lecture)   \n",
       "76   On-campus Apartments  In-person (on-campus lecture)   \n",
       "77  Off-campus Apartments  In-person (on-campus lecture)   \n",
       "78   Local Resident prior  In-person (on-campus lecture)   \n",
       "\n",
       "                                        Participation  Video_Games  \\\n",
       "0   [Answer polls/questions (when mandatory for pa...          NaN   \n",
       "1   [Answer polls/questions (when mandatory for pa...          1.0   \n",
       "2   [Answer polls/questions (when mandatory for pa...          1.0   \n",
       "3   [Answer polls/questions (when mandatory for pa...          1.0   \n",
       "4   [Answer polls/questions (when mandatory for pa...          1.0   \n",
       "..                                                ...          ...   \n",
       "74  [Answer polls/questions (when mandatory for pa...          1.0   \n",
       "75  [Answer polls/questions (when mandatory for pa...          1.0   \n",
       "76  [Answer polls/questions (when mandatory for pa...          2.0   \n",
       "77  [Answer polls/questions (when mandatory for pa...          4.0   \n",
       "78  [Answer polls/questions (when mandatory for pa...          1.0   \n",
       "\n",
       "    Digital_Media  Social_Media                                Other  \\\n",
       "0             NaN           NaN            [work from another class]   \n",
       "1             3.0           2.0                        [Eating food]   \n",
       "2             2.0           2.0    [Eating, work from another class]   \n",
       "3             2.0           2.0            [Work from another class]   \n",
       "4             1.0           1.0                          [Instagram]   \n",
       "..            ...           ...                                  ...   \n",
       "74            1.0           3.0                              [Sleep]   \n",
       "75            2.0           2.0                               [None]   \n",
       "76            3.0           1.0                               [Work]   \n",
       "77            4.0           4.0                                 [no]   \n",
       "78            1.0           2.0  [Eat, work from other class,chores]   \n",
       "\n",
       "    Attendance                                   Watch_Recordings  \\\n",
       "0          100                                                NaN   \n",
       "1            3  I tell myself that I will watch the recorded l...   \n",
       "2            4  I tell myself that I will watch the recorded l...   \n",
       "3            5                                               Both   \n",
       "4            5  I tell myself that I will watch the recorded l...   \n",
       "..         ...                                                ...   \n",
       "74           5                                               Both   \n",
       "75           4                                               Both   \n",
       "76           5  I tell myself that I will watch the recorded l...   \n",
       "77           4             I actually watch the recorded lectures   \n",
       "78           4             I actually watch the recorded lectures   \n",
       "\n",
       "    Notifications  Online_Rating  \\\n",
       "0               1              3   \n",
       "1               5              1   \n",
       "2               3              2   \n",
       "3               5              3   \n",
       "4               3              4   \n",
       "..            ...            ...   \n",
       "74              5              2   \n",
       "75              4              3   \n",
       "76              2              2   \n",
       "77              4              4   \n",
       "78              4              2   \n",
       "\n",
       "                                               Change  \n",
       "0                                   More office hours  \n",
       "1   More enthusiasm from the professors, it gets v...  \n",
       "2       Get me vaccinated so I can leave the house :)  \n",
       "3   Try to make it more interactive and attention-...  \n",
       "4                                    more interactive  \n",
       "..                                                ...  \n",
       "74                         More engaging/interesting   \n",
       "75                           More student interaction  \n",
       "76                     Have more graders/TAs for labs  \n",
       "77                                                 no  \n",
       "78  More interaction with professors and not so mu...  \n",
       "\n",
       "[79 rows x 19 columns]"
      ]
     },
     "execution_count": 3,
     "metadata": {},
     "output_type": "execute_result"
    }
   ],
   "source": [
    "cleaned_data"
   ]
  },
  {
   "cell_type": "code",
   "execution_count": 4,
   "metadata": {},
   "outputs": [
    {
     "data": {
      "image/png": "[encoded data removed]",
      "text/plain": [
       "<Figure size 360x360 with 1 Axes>"
      ]
     },
     "metadata": {
      "needs_background": "light"
     },
     "output_type": "display_data"
    }
   ],
   "source": [
    "orDecGPA = cleaned_data.loc[(cleaned_data['After_COVID_GPA'] == 'Decrease'), 'Online_Rating'].mean()\n",
    "orSameGPA = cleaned_data.loc[(cleaned_data['After_COVID_GPA'] == 'Same'), 'Online_Rating'].mean()\n",
    "orIncGPA = cleaned_data.loc[(cleaned_data['After_COVID_GPA'] == 'Increase'), 'Online_Rating'].mean()\n",
    "orAll = cleaned_data['Online_Rating'].mean()\n",
    "\n",
    "orFrame = pd.DataFrame({'Average Online Rating': [orDecGPA, orSameGPA, orIncGPA, orAll]}, index=['Decrease GPA online', 'Similar GPA online', 'Increase GPA online', 'Overall'])\n",
    "plot = orFrame.plot(kind='bar', y='Average Online Rating', figsize=(5, 5))"
   ]
  },
  {
   "cell_type": "markdown",
   "metadata": {},
   "source": [
    "Here, we computed the mean of the average online rating among the students based on how their GPA has changed in the online environment. Although the overall rating is close to 3 on a 5 point scale, it can be seen that those who perform worse or on par in an online environment, seem to prefer the online environment less to those who are performing better in the online environment."
   ]
  },
  {
   "cell_type": "code",
   "execution_count": 5,
   "metadata": {},
   "outputs": [
    {
     "data": {
      "image/png": "[encoded data removed]",
      "text/plain": [
       "<Figure size 360x360 with 1 Axes>"
      ]
     },
     "metadata": {
      "needs_background": "light"
     },
     "output_type": "display_data"
    }
   ],
   "source": [
    "vgUse = cleaned_data['Video_Games'].mean()\n",
    "dmUse = cleaned_data['Digital_Media'].mean()\n",
    "smUse = cleaned_data['Social_Media'].mean()\n",
    "\n",
    "usageFrame = pd.DataFrame({'Average Distraction Usage During Lecture': [vgUse, dmUse, smUse]}, index=['Video Game Use', 'Digital Media Use', 'Social Media Use'])\n",
    "plot = usageFrame.plot(kind='bar', y='Average Distraction Usage During Lecture', figsize=(5, 5))"
   ]
  },
  {
   "cell_type": "markdown",
   "metadata": {},
   "source": [
    "Here we computed the means of average distraction usage during class using a 5 point scale where 1 is never and 5 is always. From the graph we can see that during lecture, social media use seems to be somewhat common, whereas those who use video games or digital media during lecture are rarely seen."
   ]
  },
  {
   "cell_type": "code",
   "execution_count": 6,
   "metadata": {},
   "outputs": [
    {
     "data": {
      "image/png": "[encoded data removed]",
      "text/plain": [
       "<Figure size 360x360 with 1 Axes>"
      ]
     },
     "metadata": {
      "needs_background": "light"
     },
     "output_type": "display_data"
    }
   ],
   "source": [
    "vgDec = cleaned_data.loc[(cleaned_data['After_COVID_GPA'] == 'Decrease'), 'Video_Games'].mean()\n",
    "dmDec = cleaned_data.loc[(cleaned_data['After_COVID_GPA'] == 'Decrease'), 'Digital_Media'].mean()\n",
    "smDec = cleaned_data.loc[(cleaned_data['After_COVID_GPA'] == 'Decrease'), 'Social_Media'].mean()\n",
    "\n",
    "vgSame = cleaned_data.loc[(cleaned_data['After_COVID_GPA'] == 'Same'), 'Video_Games'].mean()\n",
    "dmSame = cleaned_data.loc[(cleaned_data['After_COVID_GPA'] == 'Same'), 'Digital_Media'].mean()\n",
    "smSame = cleaned_data.loc[(cleaned_data['After_COVID_GPA'] == 'Same'), 'Social_Media'].mean()\n",
    "\n",
    "vgInc = cleaned_data.loc[(cleaned_data['After_COVID_GPA'] == 'Increase'), 'Video_Games'].mean()\n",
    "dmInc = cleaned_data.loc[(cleaned_data['After_COVID_GPA'] == 'Increase'), 'Digital_Media'].mean()\n",
    "smInc = cleaned_data.loc[(cleaned_data['After_COVID_GPA'] == 'Increase'), 'Social_Media'].mean()\n",
    "\n",
    "distractionFrame = pd.DataFrame({'Average Distraction Usage During Lecture': [vgDec, dmDec, smDec, vgSame, dmSame, smSame, vgInc, dmInc, smInc]}, index=['Decrease GPA Video Game', 'Decrease GPA Digital Media', 'Decrease GPA Social Media', 'Same GPA Video Game', 'Same GPA Digital Media', 'Same GPA Social Media', 'Increase GPA Video Game', 'Increase GPA Digital Media', 'Increase GPA Social Media'])\n",
    "plot = distractionFrame.plot(kind='bar', y='Average Distraction Usage During Lecture', figsize=(5, 5))"
   ]
  },
  {
   "cell_type": "markdown",
   "metadata": {},
   "source": [
    "In this bar graph, we computed the means of each potential distraction and its usage among those whose GPA has decreased, increased, or remained the same. This is a 5 point scale, where 1 represents never and 5 represents always. For those whose GPA has decreased in the online environment, there a bit of video game and digital media usage, but more social media usage among those who have not performed as well in the online environment. This has remained similar for those who have the same GPA, but found slightly more digital Media usage and less social media use. Finally, those who have seen an increaze in the GPA online seem to rarely give attention to potential distractions during class."
   ]
  },
  {
   "cell_type": "code",
   "execution_count": 7,
   "metadata": {},
   "outputs": [
    {
     "name": "stdout",
     "output_type": "stream",
     "text": [
      "14.531645569620252\n",
      "3.120796426284014\n"
     ]
    }
   ],
   "source": [
    "#enr = cleaned_data.iloc[:, 79]\n",
    "#enravg = findMean(enr)\n",
    "#enrstd = findSD(enr)\n",
    "#print(enravg)\n",
    "#print(enrstd)\n",
    "enravg = cleaned_data['Units_Enrolled'].mean()\n",
    "enrstd = cleaned_data['Units_Enrolled'].std()\n",
    "\n",
    "print(enravg)\n",
    "print(enrstd)"
   ]
  },
  {
   "cell_type": "code",
   "execution_count": 8,
   "metadata": {},
   "outputs": [
    {
     "name": "stdout",
     "output_type": "stream",
     "text": [
      "5.620253164556962\n",
      "10.784965553323223\n"
     ]
    }
   ],
   "source": [
    "attavg = cleaned_data['Attendance'].mean()\n",
    "attstd = cleaned_data['Attendance'].std()\n",
    "\n",
    "print(attavg)\n",
    "print(attstd)"
   ]
  },
  {
   "cell_type": "code",
   "execution_count": 9,
   "metadata": {},
   "outputs": [
    {
     "name": "stdout",
     "output_type": "stream",
     "text": [
      "3.569620253164557\n",
      "1.194898818844867\n"
     ]
    }
   ],
   "source": [
    "notavg = cleaned_data['Notifications'].mean()\n",
    "notstd = cleaned_data['Notifications'].std()\n",
    "\n",
    "print(notavg)\n",
    "print(notstd)"
   ]
  },
  {
   "cell_type": "code",
   "execution_count": 10,
   "metadata": {},
   "outputs": [
    {
     "name": "stdout",
     "output_type": "stream",
     "text": [
      "3.0126582278481013\n",
      "1.06811205219922\n"
     ]
    }
   ],
   "source": [
    "onravg = cleaned_data['Online_Rating'].mean()\n",
    "onrstd = cleaned_data['Online_Rating'].std()\n",
    "\n",
    "print(onravg)\n",
    "print(onrstd)"
   ]
  },
  {
   "cell_type": "raw",
   "metadata": {},
   "source": [
    "I calculated the mean and standard deviations for the columns for Units_Enrolled, Attendance, Notifications and Online_Rating."
   ]
  },
  {
   "cell_type": "code",
   "execution_count": 11,
   "metadata": {},
   "outputs": [
    {
     "data": {
      "text/plain": [
       "<matplotlib.axes._subplots.AxesSubplot at 0x7fcb1dcfc910>"
      ]
     },
     "execution_count": 11,
     "metadata": {},
     "output_type": "execute_result"
    },
    {
     "data": {
      "image/png": "[encoded data removed]",
      "text/plain": [
       "<Figure size 432x288 with 1 Axes>"
      ]
     },
     "metadata": {
      "needs_background": "light"
     },
     "output_type": "display_data"
    }
   ],
   "source": [
    "cleaned_data['GPA'].hist()"
   ]
  },
  {
   "cell_type": "raw",
   "metadata": {},
   "source": [
    "In this histogram, I set to find the total number of students that were each different GPA classification. From this graph we can see that the majority of students have between a 3.7-4.0 GPA."
   ]
  },
  {
   "cell_type": "code",
   "execution_count": 12,
   "metadata": {},
   "outputs": [
    {
     "data": {
      "text/plain": [
       "<matplotlib.axes._subplots.AxesSubplot at 0x7fcb1de10a30>"
      ]
     },
     "execution_count": 12,
     "metadata": {},
     "output_type": "execute_result"
    },
    {
     "data": {
      "image/png": "[encoded data removed]",
      "text/plain": [
       "<Figure size 432x288 with 1 Axes>"
      ]
     },
     "metadata": {
      "needs_background": "light"
     },
     "output_type": "display_data"
    }
   ],
   "source": [
    "cleaned_data['Academic_Year'].hist()"
   ]
  },
  {
   "cell_type": "raw",
   "metadata": {},
   "source": [
    "In this histogram, I set to find the total number of students that are in each year of college in the class. From this graph, the majority of the class are sophomores."
   ]
  },
  {
   "cell_type": "code",
   "execution_count": 13,
   "metadata": {},
   "outputs": [
    {
     "data": {
      "text/plain": [
       "<matplotlib.axes._subplots.AxesSubplot at 0x7fcb1e8125b0>"
      ]
     },
     "execution_count": 13,
     "metadata": {},
     "output_type": "execute_result"
    },
    {
     "data": {
      "image/png": "[encoded data removed]",
      "text/plain": [
       "<Figure size 432x288 with 1 Axes>"
      ]
     },
     "metadata": {
      "needs_background": "light"
     },
     "output_type": "display_data"
    }
   ],
   "source": [
    "cleaned_data['Gender'].hist()"
   ]
  },
  {
   "cell_type": "raw",
   "metadata": {},
   "source": [
    "In this histogram, I set to find the total number of students that identify as each gender in the class. From this graph, the majority of the class are males."
   ]
  },
  {
   "cell_type": "code",
   "execution_count": 14,
   "metadata": {},
   "outputs": [
    {
     "data": {
      "image/png": "[encoded data removed]",
      "text/plain": [
       "<Figure size 432x288 with 1 Axes>"
      ]
     },
     "metadata": {
      "needs_background": "light"
     },
     "output_type": "display_data"
    }
   ],
   "source": [
    "blot = sns.boxplot(y = 'Units_Enrolled', x = 'GPA', data = cleaned_data, width = 0.5)\n",
    "\n"
   ]
  },
  {
   "cell_type": "raw",
   "metadata": {},
   "source": [
    "I made this boxplot for GPA classifications based on the amount of units the students were enrolled in. From this boxplot, the median is highest among those with a 2.7-2.99 GPA, while the maximum units enrolled by a student is in the 3.3-3.69 range."
   ]
  },
  {
   "cell_type": "code",
   "execution_count": null,
   "metadata": {},
   "outputs": [],
   "source": []
  }
 ],
 "metadata": {
  "kernelspec": {
   "display_name": "Python 3",
   "language": "python",
   "name": "python3"
  },
  "language_info": {
   "codemirror_mode": {
    "name": "ipython",
    "version": 3
   },
   "file_extension": ".py",
   "mimetype": "text/x-python",
   "name": "python",
   "nbconvert_exporter": "python",
   "pygments_lexer": "ipython3",
   "version": "3.8.3"
  }
 },
 "nbformat": 4,
 "nbformat_minor": 4
}
