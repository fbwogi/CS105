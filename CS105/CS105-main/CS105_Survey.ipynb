{
 "cells": [
  {
   "cell_type": "markdown",
   "metadata": {},
   "source": [
    "# CS105 Survey\n",
    "\n",
    "Obtained from the survey, provided to both CS105 and CS111, we have information ... (ANSWER QUESTION 1 HERE)\n",
    "\n",
    "We would like to know... (ANSWER QUESTION 2 HERE)\n",
    "\n",
    "NOTE (may need to be edited): We can either answer question 1 and 2 here or below"
   ]
  },
  {
   "cell_type": "markdown",
   "metadata": {},
   "source": [
    "# Question 1\n",
    "What information do we have?"
   ]
  },
  {
   "cell_type": "markdown",
   "metadata": {},
   "source": [
    "# Question 2\n",
    "What would we like to know about the class?"
   ]
  },
  {
   "cell_type": "markdown",
   "metadata": {},
   "source": [
    "# Data Cleaning and Pre-processing"
   ]
  },
  {
   "cell_type": "code",
   "execution_count": 1,
   "metadata": {},
   "outputs": [],
   "source": [
    "# import necessary libraries\n",
    "import pandas as pd\n",
    "import numpy as np\n",
    "import matplotlib.pyplot as plt\n",
    "import seaborn as sns"
   ]
  },
  {
   "cell_type": "code",
   "execution_count": 2,
   "metadata": {},
   "outputs": [
    {
     "name": "stderr",
     "output_type": "stream",
     "text": [
      "<ipython-input-2-4f006986792e>:10: SettingWithCopyWarning: \n",
      "A value is trying to be set on a copy of a slice from a DataFrame.\n",
      "Try using .loc[row_indexer,col_indexer] = value instead\n",
      "\n",
      "See the caveats in the documentation: https://pandas.pydata.org/pandas-docs/stable/user_guide/indexing.html#returning-a-view-versus-a-copy\n",
      "  data[col] = data[col].str.split(', ')\n"
     ]
    },
    {
     "data": {
      "text/html": [
       "<div>\n",
       "<style scoped>\n",
       "    .dataframe tbody tr th:only-of-type {\n",
       "        vertical-align: middle;\n",
       "    }\n",
       "\n",
       "    .dataframe tbody tr th {\n",
       "        vertical-align: top;\n",
       "    }\n",
       "\n",
       "    .dataframe thead th {\n",
       "        text-align: right;\n",
       "    }\n",
       "</style>\n",
       "<table border=\"1\" class=\"dataframe\">\n",
       "  <thead>\n",
       "    <tr style=\"text-align: right;\">\n",
       "      <th></th>\n",
       "      <th>Gender</th>\n",
       "      <th>Academic_Year</th>\n",
       "      <th>Major</th>\n",
       "      <th>GPA</th>\n",
       "      <th>After_COVID_GPA</th>\n",
       "      <th>Units_Enrolled</th>\n",
       "      <th>Academic_Progress</th>\n",
       "      <th>Before_Covid_Living</th>\n",
       "      <th>Learning_Type</th>\n",
       "      <th>Participation</th>\n",
       "      <th>Video_Games</th>\n",
       "      <th>Digital_Media</th>\n",
       "      <th>Social_Media</th>\n",
       "      <th>Other</th>\n",
       "      <th>Attendance</th>\n",
       "      <th>Watch_Recordings</th>\n",
       "      <th>Notifications</th>\n",
       "      <th>Online_Rating</th>\n",
       "      <th>Change</th>\n",
       "    </tr>\n",
       "  </thead>\n",
       "  <tbody>\n",
       "    <tr>\n",
       "      <th>0</th>\n",
       "      <td>Female</td>\n",
       "      <td>Sophomore</td>\n",
       "      <td>CS</td>\n",
       "      <td>3.7 - 4.0</td>\n",
       "      <td>Decrease</td>\n",
       "      <td>4</td>\n",
       "      <td>NaN</td>\n",
       "      <td>UCR Dorms</td>\n",
       "      <td>In-person (on-campus lecture)</td>\n",
       "      <td>[Answer polls/questions (when mandatory for pa...</td>\n",
       "      <td>NaN</td>\n",
       "      <td>NaN</td>\n",
       "      <td>NaN</td>\n",
       "      <td>[work from another class]</td>\n",
       "      <td>100</td>\n",
       "      <td>NaN</td>\n",
       "      <td>1</td>\n",
       "      <td>3</td>\n",
       "      <td>More office hours</td>\n",
       "    </tr>\n",
       "    <tr>\n",
       "      <th>1</th>\n",
       "      <td>Male</td>\n",
       "      <td>Sophomore</td>\n",
       "      <td>Computer Science with Business Applications</td>\n",
       "      <td>3.3 - 3.69</td>\n",
       "      <td>Increase</td>\n",
       "      <td>13</td>\n",
       "      <td>3.0</td>\n",
       "      <td>UCR Dorms</td>\n",
       "      <td>In-person (on-campus lecture)</td>\n",
       "      <td>[Answer polls/questions (when mandatory for pa...</td>\n",
       "      <td>1.0</td>\n",
       "      <td>3.0</td>\n",
       "      <td>2.0</td>\n",
       "      <td>[Eating food]</td>\n",
       "      <td>3</td>\n",
       "      <td>I tell myself that I will watch the recorded l...</td>\n",
       "      <td>5</td>\n",
       "      <td>1</td>\n",
       "      <td>More enthusiasm from the professors, it gets v...</td>\n",
       "    </tr>\n",
       "    <tr>\n",
       "      <th>2</th>\n",
       "      <td>Male</td>\n",
       "      <td>Sophomore</td>\n",
       "      <td>CSBA</td>\n",
       "      <td>3.7 - 4.0</td>\n",
       "      <td>Same</td>\n",
       "      <td>4</td>\n",
       "      <td>5.0</td>\n",
       "      <td>UCR Dorms</td>\n",
       "      <td>In-person (on-campus lecture)</td>\n",
       "      <td>[Answer polls/questions (when mandatory for pa...</td>\n",
       "      <td>1.0</td>\n",
       "      <td>2.0</td>\n",
       "      <td>2.0</td>\n",
       "      <td>[Eating, work from another class]</td>\n",
       "      <td>4</td>\n",
       "      <td>I tell myself that I will watch the recorded l...</td>\n",
       "      <td>3</td>\n",
       "      <td>2</td>\n",
       "      <td>Get me vaccinated so I can leave the house :)</td>\n",
       "    </tr>\n",
       "    <tr>\n",
       "      <th>3</th>\n",
       "      <td>Male</td>\n",
       "      <td>Sophomore</td>\n",
       "      <td>Computer Science</td>\n",
       "      <td>3.7 - 4.0</td>\n",
       "      <td>Decrease</td>\n",
       "      <td>16</td>\n",
       "      <td>3.0</td>\n",
       "      <td>UCR Dorms</td>\n",
       "      <td>In-person (on-campus lecture)</td>\n",
       "      <td>[Answer polls/questions (when mandatory for pa...</td>\n",
       "      <td>1.0</td>\n",
       "      <td>2.0</td>\n",
       "      <td>2.0</td>\n",
       "      <td>[Work from another class]</td>\n",
       "      <td>5</td>\n",
       "      <td>Both</td>\n",
       "      <td>5</td>\n",
       "      <td>3</td>\n",
       "      <td>Try to make it more interactive and attention-...</td>\n",
       "    </tr>\n",
       "    <tr>\n",
       "      <th>4</th>\n",
       "      <td>Female</td>\n",
       "      <td>Sophomore</td>\n",
       "      <td>Computer Science</td>\n",
       "      <td>3.3 - 3.69</td>\n",
       "      <td>Increase</td>\n",
       "      <td>12</td>\n",
       "      <td>5.0</td>\n",
       "      <td>UCR Dorms</td>\n",
       "      <td>In-person (on-campus lecture)</td>\n",
       "      <td>[Answer polls/questions (when mandatory for pa...</td>\n",
       "      <td>1.0</td>\n",
       "      <td>1.0</td>\n",
       "      <td>1.0</td>\n",
       "      <td>[Instagram]</td>\n",
       "      <td>5</td>\n",
       "      <td>I tell myself that I will watch the recorded l...</td>\n",
       "      <td>3</td>\n",
       "      <td>4</td>\n",
       "      <td>more interactive</td>\n",
       "    </tr>\n",
       "  </tbody>\n",
       "</table>\n",
       "</div>"
      ],
      "text/plain": [
       "   Gender Academic_Year                                        Major  \\\n",
       "0  Female     Sophomore                                           CS   \n",
       "1    Male     Sophomore  Computer Science with Business Applications   \n",
       "2    Male     Sophomore                                         CSBA   \n",
       "3    Male     Sophomore                             Computer Science   \n",
       "4  Female     Sophomore                             Computer Science   \n",
       "\n",
       "          GPA After_COVID_GPA  Units_Enrolled  Academic_Progress  \\\n",
       "0   3.7 - 4.0        Decrease               4                NaN   \n",
       "1  3.3 - 3.69        Increase              13                3.0   \n",
       "2   3.7 - 4.0            Same               4                5.0   \n",
       "3   3.7 - 4.0        Decrease              16                3.0   \n",
       "4  3.3 - 3.69        Increase              12                5.0   \n",
       "\n",
       "  Before_Covid_Living                  Learning_Type  \\\n",
       "0           UCR Dorms  In-person (on-campus lecture)   \n",
       "1           UCR Dorms  In-person (on-campus lecture)   \n",
       "2           UCR Dorms  In-person (on-campus lecture)   \n",
       "3           UCR Dorms  In-person (on-campus lecture)   \n",
       "4           UCR Dorms  In-person (on-campus lecture)   \n",
       "\n",
       "                                       Participation  Video_Games  \\\n",
       "0  [Answer polls/questions (when mandatory for pa...          NaN   \n",
       "1  [Answer polls/questions (when mandatory for pa...          1.0   \n",
       "2  [Answer polls/questions (when mandatory for pa...          1.0   \n",
       "3  [Answer polls/questions (when mandatory for pa...          1.0   \n",
       "4  [Answer polls/questions (when mandatory for pa...          1.0   \n",
       "\n",
       "   Digital_Media  Social_Media                              Other  Attendance  \\\n",
       "0            NaN           NaN          [work from another class]         100   \n",
       "1            3.0           2.0                      [Eating food]           3   \n",
       "2            2.0           2.0  [Eating, work from another class]           4   \n",
       "3            2.0           2.0          [Work from another class]           5   \n",
       "4            1.0           1.0                        [Instagram]           5   \n",
       "\n",
       "                                    Watch_Recordings  Notifications  \\\n",
       "0                                                NaN              1   \n",
       "1  I tell myself that I will watch the recorded l...              5   \n",
       "2  I tell myself that I will watch the recorded l...              3   \n",
       "3                                               Both              5   \n",
       "4  I tell myself that I will watch the recorded l...              3   \n",
       "\n",
       "   Online_Rating                                             Change  \n",
       "0              3                                  More office hours  \n",
       "1              1  More enthusiasm from the professors, it gets v...  \n",
       "2              2      Get me vaccinated so I can leave the house :)  \n",
       "3              3  Try to make it more interactive and attention-...  \n",
       "4              4                                   more interactive  "
      ]
     },
     "execution_count": 2,
     "metadata": {},
     "output_type": "execute_result"
    }
   ],
   "source": [
    "# read in metadata\n",
    "raw_data = pd.read_csv(\"CS105_Survey.csv\")\n",
    "raw_data.head()\n",
    "\n",
    "\n",
    "\n",
    "# convert string to list of strings\n",
    "def string_to_list_col(data,columns):\n",
    "    for col in columns:\n",
    "        data[col] = data[col].str.split(', ')\n",
    "    return data\n",
    "\n",
    "def clean_data(data, columns):\n",
    "    # clean the data\n",
    "    data = data.iloc[:,[1,3,4,5,6,7,9,16,19,20,21,22,23,24,25,26,27,28,29]]\n",
    "    data.columns=[\"Gender\",\"Academic_Year\",\"Major\",\"GPA\",\"After_COVID_GPA\",\"Units_Enrolled\",\n",
    "                  \"Academic_Progress\",\"Before_Covid_Living\",\"Learning_Type\",\"Participation\",\n",
    "                    \"Video_Games\",\"Digital_Media\",\"Social_Media\",\"Other\",\"Attendance\",\"Watch_Recordings\",\n",
    "                    \"Notifications\",\"Online_Rating\",\"Change\"]\n",
    "    data = string_to_list_col(data, columns)\n",
    "    return data\n",
    "\n",
    "cleaned_data = clean_data(raw_data, [\"Participation\",\"Other\"])\n",
    "cleaned_data.head()"
   ]
  },
  {
   "cell_type": "code",
   "execution_count": null,
   "metadata": {},
   "outputs": [],
   "source": []
  },
  {
   "cell_type": "markdown",
   "metadata": {},
   "source": [
    "# Question 3: Data Visualization and Descriptive Statistics\n",
    "Explore the data (Generate statistics, perform visualizations). Explain what you are computing (mean, SD, ...), and then\n",
    "compute using Python. Create some visualizations (at least 5, and at least 3 must be of different types)."
   ]
  },
  {
   "cell_type": "code",
   "execution_count": 3,
   "metadata": {},
   "outputs": [],
   "source": [
    "def findMean(x):\n",
    "    return x.mean()\n",
    "\n",
    "def findSD(x):\n",
    "    return x.std()"
   ]
  },
  {
   "cell_type": "code",
   "execution_count": 4,
   "metadata": {},
   "outputs": [
    {
     "name": "stdout",
     "output_type": "stream",
     "text": [
      "14.531645569620252\n",
      "3.120796426284014\n"
     ]
    }
   ],
   "source": [
    "#enr = cleaned_data.iloc[:, 79]\n",
    "#enravg = findMean(enr)\n",
    "#enrstd = findSD(enr)\n",
    "#print(enravg)\n",
    "#print(enrstd)\n",
    "enravg = cleaned_data['Units_Enrolled'].mean()\n",
    "enrstd = cleaned_data['Units_Enrolled'].std()\n",
    "\n",
    "print(enravg)\n",
    "print(enrstd)"
   ]
  },
  {
   "cell_type": "code",
   "execution_count": 5,
   "metadata": {},
   "outputs": [
    {
     "name": "stdout",
     "output_type": "stream",
     "text": [
      "5.620253164556962\n",
      "10.784965553323223\n"
     ]
    }
   ],
   "source": [
    "attavg = cleaned_data['Attendance'].mean()\n",
    "attstd = cleaned_data['Attendance'].std()\n",
    "\n",
    "print(attavg)\n",
    "print(attstd)"
   ]
  },
  {
   "cell_type": "code",
   "execution_count": 6,
   "metadata": {},
   "outputs": [
    {
     "name": "stdout",
     "output_type": "stream",
     "text": [
      "3.569620253164557\n",
      "1.194898818844867\n"
     ]
    }
   ],
   "source": [
    "notavg = cleaned_data['Notifications'].mean()\n",
    "notstd = cleaned_data['Notifications'].std()\n",
    "\n",
    "print(notavg)\n",
    "print(notstd)"
   ]
  },
  {
   "cell_type": "code",
   "execution_count": 7,
   "metadata": {},
   "outputs": [
    {
     "name": "stdout",
     "output_type": "stream",
     "text": [
      "3.0126582278481013\n",
      "1.06811205219922\n"
     ]
    }
   ],
   "source": [
    "onravg = cleaned_data['Online_Rating'].mean()\n",
    "onrstd = cleaned_data['Online_Rating'].std()\n",
    "\n",
    "print(onravg)\n",
    "print(onrstd)"
   ]
  },
  {
   "cell_type": "code",
   "execution_count": 8,
   "metadata": {},
   "outputs": [
    {
     "data": {
      "text/plain": [
       "<matplotlib.axes._subplots.AxesSubplot at 0x7ffb2206a790>"
      ]
     },
     "execution_count": 8,
     "metadata": {},
     "output_type": "execute_result"
    },
    {
     "data": {
      "image/png": "[encoded data removed]",
      "text/plain": [
       "<Figure size 432x288 with 1 Axes>"
      ]
     },
     "metadata": {
      "needs_background": "light"
     },
     "output_type": "display_data"
    }
   ],
   "source": [
    "cleaned_data['GPA'].hist()"
   ]
  },
  {
   "cell_type": "code",
   "execution_count": 17,
   "metadata": {},
   "outputs": [
    {
     "data": {
      "text/plain": [
       "<matplotlib.axes._subplots.AxesSubplot at 0x7ffb25423cd0>"
      ]
     },
     "execution_count": 17,
     "metadata": {},
     "output_type": "execute_result"
    },
    {
     "data": {
      "image/png": "[encoded data removed]",
      "text/plain": [
       "<Figure size 432x288 with 1 Axes>"
      ]
     },
     "metadata": {
      "needs_background": "light"
     },
     "output_type": "display_data"
    }
   ],
   "source": [
    "cleaned_data['Academic_Year'].hist()"
   ]
  },
  {
   "cell_type": "code",
   "execution_count": 18,
   "metadata": {},
   "outputs": [
    {
     "data": {
      "text/plain": [
       "<matplotlib.axes._subplots.AxesSubplot at 0x7ffb259af2e0>"
      ]
     },
     "execution_count": 18,
     "metadata": {},
     "output_type": "execute_result"
    },
    {
     "data": {
      "image/png": "[encoded data removed]",
      "text/plain": [
       "<Figure size 432x288 with 1 Axes>"
      ]
     },
     "metadata": {
      "needs_background": "light"
     },
     "output_type": "display_data"
    }
   ],
   "source": [
    "cleaned_data['Gender'].hist()"
   ]
  },
  {
   "cell_type": "code",
   "execution_count": 19,
   "metadata": {},
   "outputs": [
    {
     "data": {
      "image/png": "[encoded data removed]",
      "text/plain": [
       "<Figure size 432x288 with 1 Axes>"
      ]
     },
     "metadata": {
      "needs_background": "light"
     },
     "output_type": "display_data"
    }
   ],
   "source": [
    "#cleaned_data.boxplot(by = 'GPA', columns = ['Units_Enrolled'], grid = False)#figsize = (30, 15))\n",
    "#cleaned_data.boxplot(by = 'GPA', figsize = (30, 15))\n",
    "blot = sns.boxplot(y = 'Units_Enrolled', x = 'GPA', data = cleaned_data, width = 0.5)\n",
    "\n",
    "#bp.plot(figsize=(100, 100))"
   ]
  },
  {
   "cell_type": "markdown",
   "metadata": {},
   "source": [
    "##### "
   ]
  }
 ],
 "metadata": {
  "kernelspec": {
   "display_name": "Python 3",
   "language": "python",
   "name": "python3"
  },
  "language_info": {
   "codemirror_mode": {
    "name": "ipython",
    "version": 3
   },
   "file_extension": ".py",
   "mimetype": "text/x-python",
   "name": "python",
   "nbconvert_exporter": "python",
   "pygments_lexer": "ipython3",
   "version": "3.8.3"
  }
 },
 "nbformat": 4,
 "nbformat_minor": 4
}
