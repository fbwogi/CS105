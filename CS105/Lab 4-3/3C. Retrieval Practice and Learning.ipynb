{
 "cells": [
  {
   "cell_type": "markdown",
   "metadata": {
    "colab_type": "text",
    "id": "1aPshrzKvAlN"
   },
   "source": [
    "# Retrieval Practice and Learning\n",
    "\n",
    "What is the most effective way to learn a subject? Many students focus exclusively on the _encoding_ process---that is, how to get the knowledge into memory in the first place. For example, taking notes is an activity for encoding knowledge.\n",
    "\n",
    "_Retrieval_, on the other hand, is the process of reconstructing that knowledge from memory. [Karpicke and Blunt](http://science.sciencemag.org/content/331/6018/772) (2011) demonstrated that _retrieval_ is more effective for learning than activites designed to promote effective encoding. They conducted an experiment in which subjects had to learn about sea otters by reading a passage. Subjects were randomly assigned to one of two conditions: some were instructed to create a [concept map](https://en.wikipedia.org/wiki/Concept_map) as they read the passage, while others were instructed to practice retrieval (i.e., read the passage, recall as much as they could, read the text again, and recall again). The two main measurements they recorded were:\n",
    "\n",
    "1. each subject's score on a follow-up learning test one week later\n",
    "2. each subject's _prediction_ of how well they would do on that test\n",
    "\n",
    "In this lab, you will analyze data from a _replication_ of Karpicke and Blunt's experiment, conducted by Buttrick _et al_.\n",
    "- The data file is : data.csv.\n",
    "- The codebook (explaining what the variables mean) is : codebook.csv."
   ]
  },
  {
   "cell_type": "code",
   "execution_count": 1,
   "metadata": {
    "colab": {},
    "colab_type": "code",
    "id": "aA3QAljEvAlO"
   },
   "outputs": [
    {
     "data": {
      "text/html": [
       "<div>\n",
       "<style scoped>\n",
       "    .dataframe tbody tr th:only-of-type {\n",
       "        vertical-align: middle;\n",
       "    }\n",
       "\n",
       "    .dataframe tbody tr th {\n",
       "        vertical-align: top;\n",
       "    }\n",
       "\n",
       "    .dataframe thead th {\n",
       "        text-align: right;\n",
       "    }\n",
       "</style>\n",
       "<table border=\"1\" class=\"dataframe\">\n",
       "  <thead>\n",
       "    <tr style=\"text-align: right;\">\n",
       "      <th></th>\n",
       "      <th>Name</th>\n",
       "      <th>Variable full label</th>\n",
       "      <th>Variable description</th>\n",
       "      <th>Valid range</th>\n",
       "      <th>Scoring</th>\n",
       "      <th>Value indicating missing data</th>\n",
       "      <th>Value indicating inapplicable data</th>\n",
       "      <th>Experiment file used</th>\n",
       "    </tr>\n",
       "  </thead>\n",
       "  <tbody>\n",
       "    <tr>\n",
       "      <th>0</th>\n",
       "      <td>ID</td>\n",
       "      <td>Participant ID</td>\n",
       "      <td>Participant's study number/identifier</td>\n",
       "      <td>KB1 - KB52</td>\n",
       "      <td>NaN</td>\n",
       "      <td>0</td>\n",
       "      <td>NaN</td>\n",
       "      <td>NaN</td>\n",
       "    </tr>\n",
       "    <tr>\n",
       "      <th>1</th>\n",
       "      <td>netID</td>\n",
       "      <td>UVA netID</td>\n",
       "      <td>Student's UVA netID identifier</td>\n",
       "      <td>NaN</td>\n",
       "      <td>NaN</td>\n",
       "      <td>0</td>\n",
       "      <td>NaN</td>\n",
       "      <td>NaN</td>\n",
       "    </tr>\n",
       "    <tr>\n",
       "      <th>2</th>\n",
       "      <td>Date.P1</td>\n",
       "      <td>Date part 1</td>\n",
       "      <td>Date of part 1 session</td>\n",
       "      <td>00/00/00</td>\n",
       "      <td>NaN</td>\n",
       "      <td>0</td>\n",
       "      <td>NaN</td>\n",
       "      <td>NaN</td>\n",
       "    </tr>\n",
       "    <tr>\n",
       "      <th>3</th>\n",
       "      <td>Date.P2</td>\n",
       "      <td>Date part 2</td>\n",
       "      <td>Date of part 2 session (1 week later)</td>\n",
       "      <td>00/00/00</td>\n",
       "      <td>NaN</td>\n",
       "      <td>0</td>\n",
       "      <td>NaN</td>\n",
       "      <td>NaN</td>\n",
       "    </tr>\n",
       "    <tr>\n",
       "      <th>4</th>\n",
       "      <td>Condition</td>\n",
       "      <td>Condition assigned</td>\n",
       "      <td>Participant's assigned study condition (block ...</td>\n",
       "      <td>Retrieval OR Concept</td>\n",
       "      <td>NaN</td>\n",
       "      <td>0</td>\n",
       "      <td>NaN</td>\n",
       "      <td>NaN</td>\n",
       "    </tr>\n",
       "    <tr>\n",
       "      <th>5</th>\n",
       "      <td>IC.1</td>\n",
       "      <td>Informed consent 1</td>\n",
       "      <td>Informed consent administered for part 1 session</td>\n",
       "      <td>0-1</td>\n",
       "      <td>NaN</td>\n",
       "      <td>0</td>\n",
       "      <td>NaN</td>\n",
       "      <td>\"Karpicke &amp; Blunt (2011) - informed consent (c...</td>\n",
       "    </tr>\n",
       "    <tr>\n",
       "      <th>6</th>\n",
       "      <td>IC.2</td>\n",
       "      <td>Informed consent 2</td>\n",
       "      <td>Informed consent administered for part 2 session</td>\n",
       "      <td>0-1</td>\n",
       "      <td>NaN</td>\n",
       "      <td>0</td>\n",
       "      <td>NaN</td>\n",
       "      <td>\"Karpicke &amp; Blunt (2011) - informed consent (c...</td>\n",
       "    </tr>\n",
       "    <tr>\n",
       "      <th>7</th>\n",
       "      <td>Comp.1</td>\n",
       "      <td>Compensation 1</td>\n",
       "      <td>Compensation (SONA credit) awarded for part 1 ...</td>\n",
       "      <td>0-1</td>\n",
       "      <td>NaN</td>\n",
       "      <td>0</td>\n",
       "      <td>NaN</td>\n",
       "      <td>0.5 SONA credit</td>\n",
       "    </tr>\n",
       "    <tr>\n",
       "      <th>8</th>\n",
       "      <td>Comp.2</td>\n",
       "      <td>Compensation 2</td>\n",
       "      <td>Compensation (SONA credit) awarded for part 2 ...</td>\n",
       "      <td>0-1</td>\n",
       "      <td>NaN</td>\n",
       "      <td>0</td>\n",
       "      <td>NaN</td>\n",
       "      <td>0.5 SONA credit</td>\n",
       "    </tr>\n",
       "    <tr>\n",
       "      <th>9</th>\n",
       "      <td>PR.1</td>\n",
       "      <td>Prediction response 1</td>\n",
       "      <td>Q1 response</td>\n",
       "      <td>0-1</td>\n",
       "      <td>(responses: 1 = yes, 0 = no)</td>\n",
       "      <td>0</td>\n",
       "      <td>NaN</td>\n",
       "      <td>\"Karpicke &amp; Blunt (2011) - Prediction question...</td>\n",
       "    </tr>\n",
       "    <tr>\n",
       "      <th>10</th>\n",
       "      <td>PR.2</td>\n",
       "      <td>Prediction response 2</td>\n",
       "      <td>Q2 response</td>\n",
       "      <td>0.0 - 1.0</td>\n",
       "      <td>NaN</td>\n",
       "      <td>0</td>\n",
       "      <td>NaN</td>\n",
       "      <td>\"Karpicke &amp; Blunt (2011) - Prediction question...</td>\n",
       "    </tr>\n",
       "    <tr>\n",
       "      <th>11</th>\n",
       "      <td>MCS.1</td>\n",
       "      <td>Map completion score 1</td>\n",
       "      <td>Concept map completion single score</td>\n",
       "      <td>0.0 - 1.0</td>\n",
       "      <td>(score = number of idea units mapped divided b...</td>\n",
       "      <td>0</td>\n",
       "      <td>NaN</td>\n",
       "      <td>\"Karpicke &amp; Blunt (2011) - Concept map templat...</td>\n",
       "    </tr>\n",
       "    <tr>\n",
       "      <th>12</th>\n",
       "      <td>Scorer.1</td>\n",
       "      <td>Scorer 1</td>\n",
       "      <td>First scorer for the concept map completion sc...</td>\n",
       "      <td>AA - ZZ</td>\n",
       "      <td>NaN</td>\n",
       "      <td>0</td>\n",
       "      <td>NaN</td>\n",
       "      <td>\"Karpicke &amp; Blunt (2011) - Original idea units...</td>\n",
       "    </tr>\n",
       "    <tr>\n",
       "      <th>13</th>\n",
       "      <td>MCS.2</td>\n",
       "      <td>Map completion score 2</td>\n",
       "      <td>Concept map completion double score</td>\n",
       "      <td>0.0 - 1.0</td>\n",
       "      <td>(score = number of idea units mapped divided b...</td>\n",
       "      <td>0</td>\n",
       "      <td>NaN</td>\n",
       "      <td>\"Karpicke &amp; Blunt (2011) - Concept map templat...</td>\n",
       "    </tr>\n",
       "    <tr>\n",
       "      <th>14</th>\n",
       "      <td>Scorer.2</td>\n",
       "      <td>Scorer 2</td>\n",
       "      <td>Second scorer for the concept map completion s...</td>\n",
       "      <td>AA - ZZ</td>\n",
       "      <td>NaN</td>\n",
       "      <td>0</td>\n",
       "      <td>NaN</td>\n",
       "      <td>\"Karpicke &amp; Blunt (2011) - Original idea units...</td>\n",
       "    </tr>\n",
       "    <tr>\n",
       "      <th>15</th>\n",
       "      <td>MCS.avg</td>\n",
       "      <td>Map completion score average</td>\n",
       "      <td>Average of the first and second scorers' conce...</td>\n",
       "      <td>0.0 - 1.0</td>\n",
       "      <td>(score = (MCS.1 + MCS.2)/2)</td>\n",
       "      <td>0</td>\n",
       "      <td>NaN</td>\n",
       "      <td>NaN</td>\n",
       "    </tr>\n",
       "    <tr>\n",
       "      <th>16</th>\n",
       "      <td>R1CS.1</td>\n",
       "      <td>Retrieval #1 completion score 1</td>\n",
       "      <td>Retrieval practice #1 completion single score</td>\n",
       "      <td>0.0 - 1.0</td>\n",
       "      <td>(score = number of idea units listed divided b...</td>\n",
       "      <td>0</td>\n",
       "      <td>NaN</td>\n",
       "      <td>\"Karpicke &amp; Blunt (2011) - Retrieval practice ...</td>\n",
       "    </tr>\n",
       "    <tr>\n",
       "      <th>17</th>\n",
       "      <td>Scorer.1</td>\n",
       "      <td>Scorer 1</td>\n",
       "      <td>First scorer for the retrieval practice #1 com...</td>\n",
       "      <td>AA - ZZ</td>\n",
       "      <td>NaN</td>\n",
       "      <td>0</td>\n",
       "      <td>NaN</td>\n",
       "      <td>\"Karpicke &amp; Blunt (2011) - Original idea units...</td>\n",
       "    </tr>\n",
       "    <tr>\n",
       "      <th>18</th>\n",
       "      <td>R1CS.2</td>\n",
       "      <td>Retrieval #1 completion score 2</td>\n",
       "      <td>Retrieval practice #1 completion double score</td>\n",
       "      <td>0.0 - 1.0</td>\n",
       "      <td>(score = number of idea units listed divided b...</td>\n",
       "      <td>0</td>\n",
       "      <td>NaN</td>\n",
       "      <td>\"Karpicke &amp; Blunt (2011) - Retrieval practice ...</td>\n",
       "    </tr>\n",
       "    <tr>\n",
       "      <th>19</th>\n",
       "      <td>Scorer.2</td>\n",
       "      <td>Scorer 2</td>\n",
       "      <td>Second scorer for the retrieval practice #1 co...</td>\n",
       "      <td>AA - ZZ</td>\n",
       "      <td>NaN</td>\n",
       "      <td>0</td>\n",
       "      <td>NaN</td>\n",
       "      <td>\"Karpicke &amp; Blunt (2011) - Original idea units...</td>\n",
       "    </tr>\n",
       "    <tr>\n",
       "      <th>20</th>\n",
       "      <td>R1CS.avg</td>\n",
       "      <td>Retrieval #1 average completion score</td>\n",
       "      <td>Average of the first and second scorers' retri...</td>\n",
       "      <td>0.0 - 1.0</td>\n",
       "      <td>(score = (R1CS.1 + R1CS.2)/2)</td>\n",
       "      <td>0</td>\n",
       "      <td>NaN</td>\n",
       "      <td>NaN</td>\n",
       "    </tr>\n",
       "    <tr>\n",
       "      <th>21</th>\n",
       "      <td>R2CS.1</td>\n",
       "      <td>Retrieval #2 completion score 1</td>\n",
       "      <td>Retrieval practice #2 completion single score ...</td>\n",
       "      <td>0.0 - 1.0</td>\n",
       "      <td>(score = number of idea units listed divided b...</td>\n",
       "      <td>0</td>\n",
       "      <td>NaN</td>\n",
       "      <td>\"Karpicke &amp; Blunt (2011) - Retrieval practice ...</td>\n",
       "    </tr>\n",
       "    <tr>\n",
       "      <th>22</th>\n",
       "      <td>Scorer.1</td>\n",
       "      <td>Scorer 1</td>\n",
       "      <td>First scorer for the retrieval practice #2 com...</td>\n",
       "      <td>AA - ZZ</td>\n",
       "      <td>NaN</td>\n",
       "      <td>0</td>\n",
       "      <td>NaN</td>\n",
       "      <td>\"Karpicke &amp; Blunt (2011) - Original idea units...</td>\n",
       "    </tr>\n",
       "    <tr>\n",
       "      <th>23</th>\n",
       "      <td>R2CS.2</td>\n",
       "      <td>Retrieval #2 completion score 2</td>\n",
       "      <td>Retrieval practice #2 completion double score</td>\n",
       "      <td>0.0 - 1.0</td>\n",
       "      <td>(score = number of idea units listed divided b...</td>\n",
       "      <td>0</td>\n",
       "      <td>NaN</td>\n",
       "      <td>\"Karpicke &amp; Blunt (2011) - Retrieval practice ...</td>\n",
       "    </tr>\n",
       "    <tr>\n",
       "      <th>24</th>\n",
       "      <td>Scorer.2</td>\n",
       "      <td>Scorer 2</td>\n",
       "      <td>Second scorer for the retrieval practice #2 co...</td>\n",
       "      <td>AA - ZZ</td>\n",
       "      <td>NaN</td>\n",
       "      <td>0</td>\n",
       "      <td>NaN</td>\n",
       "      <td>\"Karpicke &amp; Blunt (2011) - Original idea units...</td>\n",
       "    </tr>\n",
       "    <tr>\n",
       "      <th>25</th>\n",
       "      <td>R2CS.avg</td>\n",
       "      <td>Retrieval #2 average completion score</td>\n",
       "      <td>Average of the first and second scorers' retri...</td>\n",
       "      <td>0.0 - 1.0</td>\n",
       "      <td>(score = (R2CS.1 + R2CS.2)/2)</td>\n",
       "      <td>0</td>\n",
       "      <td>NaN</td>\n",
       "      <td>NaN</td>\n",
       "    </tr>\n",
       "    <tr>\n",
       "      <th>26</th>\n",
       "      <td>TS.1</td>\n",
       "      <td>Test score 1</td>\n",
       "      <td>Follow-up learning test single score</td>\n",
       "      <td>0.0 - 1.0</td>\n",
       "      <td>(score = number of earned points/25 possible p...</td>\n",
       "      <td>0</td>\n",
       "      <td>NaN</td>\n",
       "      <td>\"Karpicke &amp; Blunt (2011) - Original learning t...</td>\n",
       "    </tr>\n",
       "    <tr>\n",
       "      <th>27</th>\n",
       "      <td>Scorer.1</td>\n",
       "      <td>Scorer 1</td>\n",
       "      <td>First scorer of the follow-up learning test</td>\n",
       "      <td>AA - ZZ</td>\n",
       "      <td>NaN</td>\n",
       "      <td>0</td>\n",
       "      <td>NaN</td>\n",
       "      <td>\"Karpicke &amp; Blunt (2011) - Original learning t...</td>\n",
       "    </tr>\n",
       "    <tr>\n",
       "      <th>28</th>\n",
       "      <td>TS.2</td>\n",
       "      <td>Test score 2</td>\n",
       "      <td>Follow-up learning test double score</td>\n",
       "      <td>0.0 - 1.0</td>\n",
       "      <td>(score = number of earned points/25 possible p...</td>\n",
       "      <td>0</td>\n",
       "      <td>NaN</td>\n",
       "      <td>\"Karpicke &amp; Blunt (2011) - Original learning t...</td>\n",
       "    </tr>\n",
       "    <tr>\n",
       "      <th>29</th>\n",
       "      <td>Scorer.2</td>\n",
       "      <td>Scorer 2</td>\n",
       "      <td>Second scorer of the follow-up learning test</td>\n",
       "      <td>AA - ZZ</td>\n",
       "      <td>NaN</td>\n",
       "      <td>0</td>\n",
       "      <td>NaN</td>\n",
       "      <td>\"Karpicke &amp; Blunt (2011) - Original learning t...</td>\n",
       "    </tr>\n",
       "    <tr>\n",
       "      <th>30</th>\n",
       "      <td>TS.avg</td>\n",
       "      <td>Test score average</td>\n",
       "      <td>Average of the first and second scorers' test ...</td>\n",
       "      <td>0.0 - 1.0</td>\n",
       "      <td>(score = (TS.1 + TS.2)/2)</td>\n",
       "      <td>0</td>\n",
       "      <td>NaN</td>\n",
       "      <td>NaN</td>\n",
       "    </tr>\n",
       "    <tr>\n",
       "      <th>31</th>\n",
       "      <td>Exc.1</td>\n",
       "      <td>Exclusion part 1</td>\n",
       "      <td>Exclusions for part 1 session</td>\n",
       "      <td>0-1</td>\n",
       "      <td>1 = exclusion, 0 = no exclusion</td>\n",
       "      <td>0</td>\n",
       "      <td>NaN</td>\n",
       "      <td>NaN</td>\n",
       "    </tr>\n",
       "    <tr>\n",
       "      <th>32</th>\n",
       "      <td>Exc.2</td>\n",
       "      <td>Exclusion part 2</td>\n",
       "      <td>Exclusions for part 2 session</td>\n",
       "      <td>0-1</td>\n",
       "      <td>1 = exclusion, 0 = no exclusion</td>\n",
       "      <td>0</td>\n",
       "      <td>NaN</td>\n",
       "      <td>NaN</td>\n",
       "    </tr>\n",
       "    <tr>\n",
       "      <th>33</th>\n",
       "      <td>Collection</td>\n",
       "      <td>Collection round</td>\n",
       "      <td>Round of SSRP collection (1st round (90% confi...</td>\n",
       "      <td>1-2</td>\n",
       "      <td>NaN</td>\n",
       "      <td>0</td>\n",
       "      <td>NaN</td>\n",
       "      <td>NaN</td>\n",
       "    </tr>\n",
       "  </tbody>\n",
       "</table>\n",
       "</div>"
      ],
      "text/plain": [
       "          Name                    Variable full label  \\\n",
       "0           ID                         Participant ID   \n",
       "1        netID                              UVA netID   \n",
       "2      Date.P1                            Date part 1   \n",
       "3      Date.P2                            Date part 2   \n",
       "4    Condition                     Condition assigned   \n",
       "5         IC.1                     Informed consent 1   \n",
       "6         IC.2                     Informed consent 2   \n",
       "7       Comp.1                         Compensation 1   \n",
       "8       Comp.2                         Compensation 2   \n",
       "9         PR.1                  Prediction response 1   \n",
       "10        PR.2                  Prediction response 2   \n",
       "11       MCS.1                 Map completion score 1   \n",
       "12    Scorer.1                               Scorer 1   \n",
       "13       MCS.2                 Map completion score 2   \n",
       "14    Scorer.2                               Scorer 2   \n",
       "15     MCS.avg           Map completion score average   \n",
       "16      R1CS.1        Retrieval #1 completion score 1   \n",
       "17    Scorer.1                               Scorer 1   \n",
       "18      R1CS.2        Retrieval #1 completion score 2   \n",
       "19    Scorer.2                               Scorer 2   \n",
       "20    R1CS.avg  Retrieval #1 average completion score   \n",
       "21      R2CS.1        Retrieval #2 completion score 1   \n",
       "22    Scorer.1                               Scorer 1   \n",
       "23      R2CS.2        Retrieval #2 completion score 2   \n",
       "24    Scorer.2                               Scorer 2   \n",
       "25    R2CS.avg  Retrieval #2 average completion score   \n",
       "26        TS.1                           Test score 1   \n",
       "27    Scorer.1                               Scorer 1   \n",
       "28        TS.2                           Test score 2   \n",
       "29    Scorer.2                               Scorer 2   \n",
       "30      TS.avg                     Test score average   \n",
       "31       Exc.1                       Exclusion part 1   \n",
       "32       Exc.2                       Exclusion part 2   \n",
       "33  Collection                       Collection round   \n",
       "\n",
       "                                 Variable description           Valid range  \\\n",
       "0               Participant's study number/identifier            KB1 - KB52   \n",
       "1                      Student's UVA netID identifier                   NaN   \n",
       "2                              Date of part 1 session              00/00/00   \n",
       "3               Date of part 2 session (1 week later)              00/00/00   \n",
       "4   Participant's assigned study condition (block ...  Retrieval OR Concept   \n",
       "5    Informed consent administered for part 1 session                   0-1   \n",
       "6    Informed consent administered for part 2 session                   0-1   \n",
       "7   Compensation (SONA credit) awarded for part 1 ...                   0-1   \n",
       "8   Compensation (SONA credit) awarded for part 2 ...                   0-1   \n",
       "9                                         Q1 response                   0-1   \n",
       "10                                        Q2 response             0.0 - 1.0   \n",
       "11               Concept map completion single score              0.0 - 1.0   \n",
       "12  First scorer for the concept map completion sc...               AA - ZZ   \n",
       "13                Concept map completion double score             0.0 - 1.0   \n",
       "14  Second scorer for the concept map completion s...               AA - ZZ   \n",
       "15  Average of the first and second scorers' conce...             0.0 - 1.0   \n",
       "16     Retrieval practice #1 completion single score              0.0 - 1.0   \n",
       "17  First scorer for the retrieval practice #1 com...               AA - ZZ   \n",
       "18      Retrieval practice #1 completion double score             0.0 - 1.0   \n",
       "19  Second scorer for the retrieval practice #1 co...               AA - ZZ   \n",
       "20  Average of the first and second scorers' retri...             0.0 - 1.0   \n",
       "21  Retrieval practice #2 completion single score ...            0.0 - 1.0    \n",
       "22  First scorer for the retrieval practice #2 com...               AA - ZZ   \n",
       "23      Retrieval practice #2 completion double score             0.0 - 1.0   \n",
       "24  Second scorer for the retrieval practice #2 co...               AA - ZZ   \n",
       "25  Average of the first and second scorers' retri...             0.0 - 1.0   \n",
       "26               Follow-up learning test single score             0.0 - 1.0   \n",
       "27       First scorer of the follow-up learning test                AA - ZZ   \n",
       "28               Follow-up learning test double score             0.0 - 1.0   \n",
       "29       Second scorer of the follow-up learning test               AA - ZZ   \n",
       "30  Average of the first and second scorers' test ...             0.0 - 1.0   \n",
       "31                      Exclusions for part 1 session                   0-1   \n",
       "32                      Exclusions for part 2 session                   0-1   \n",
       "33  Round of SSRP collection (1st round (90% confi...                   1-2   \n",
       "\n",
       "                                              Scoring  \\\n",
       "0                                                 NaN   \n",
       "1                                                 NaN   \n",
       "2                                                 NaN   \n",
       "3                                                 NaN   \n",
       "4                                                 NaN   \n",
       "5                                                 NaN   \n",
       "6                                                 NaN   \n",
       "7                                                 NaN   \n",
       "8                                                 NaN   \n",
       "9                        (responses: 1 = yes, 0 = no)   \n",
       "10                                                NaN   \n",
       "11  (score = number of idea units mapped divided b...   \n",
       "12                                                NaN   \n",
       "13  (score = number of idea units mapped divided b...   \n",
       "14                                                NaN   \n",
       "15                        (score = (MCS.1 + MCS.2)/2)   \n",
       "16  (score = number of idea units listed divided b...   \n",
       "17                                                NaN   \n",
       "18  (score = number of idea units listed divided b...   \n",
       "19                                                NaN   \n",
       "20                      (score = (R1CS.1 + R1CS.2)/2)   \n",
       "21  (score = number of idea units listed divided b...   \n",
       "22                                                NaN   \n",
       "23  (score = number of idea units listed divided b...   \n",
       "24                                                NaN   \n",
       "25                      (score = (R2CS.1 + R2CS.2)/2)   \n",
       "26  (score = number of earned points/25 possible p...   \n",
       "27                                                NaN   \n",
       "28  (score = number of earned points/25 possible p...   \n",
       "29                                                NaN   \n",
       "30                          (score = (TS.1 + TS.2)/2)   \n",
       "31                    1 = exclusion, 0 = no exclusion   \n",
       "32                    1 = exclusion, 0 = no exclusion   \n",
       "33                                                NaN   \n",
       "\n",
       "    Value indicating missing data  Value indicating inapplicable data  \\\n",
       "0                               0                                 NaN   \n",
       "1                               0                                 NaN   \n",
       "2                               0                                 NaN   \n",
       "3                               0                                 NaN   \n",
       "4                               0                                 NaN   \n",
       "5                               0                                 NaN   \n",
       "6                               0                                 NaN   \n",
       "7                               0                                 NaN   \n",
       "8                               0                                 NaN   \n",
       "9                               0                                 NaN   \n",
       "10                              0                                 NaN   \n",
       "11                              0                                 NaN   \n",
       "12                              0                                 NaN   \n",
       "13                              0                                 NaN   \n",
       "14                              0                                 NaN   \n",
       "15                              0                                 NaN   \n",
       "16                              0                                 NaN   \n",
       "17                              0                                 NaN   \n",
       "18                              0                                 NaN   \n",
       "19                              0                                 NaN   \n",
       "20                              0                                 NaN   \n",
       "21                              0                                 NaN   \n",
       "22                              0                                 NaN   \n",
       "23                              0                                 NaN   \n",
       "24                              0                                 NaN   \n",
       "25                              0                                 NaN   \n",
       "26                              0                                 NaN   \n",
       "27                              0                                 NaN   \n",
       "28                              0                                 NaN   \n",
       "29                              0                                 NaN   \n",
       "30                              0                                 NaN   \n",
       "31                              0                                 NaN   \n",
       "32                              0                                 NaN   \n",
       "33                              0                                 NaN   \n",
       "\n",
       "                                 Experiment file used  \n",
       "0                                                 NaN  \n",
       "1                                                 NaN  \n",
       "2                                                 NaN  \n",
       "3                                                 NaN  \n",
       "4                                                 NaN  \n",
       "5   \"Karpicke & Blunt (2011) - informed consent (c...  \n",
       "6   \"Karpicke & Blunt (2011) - informed consent (c...  \n",
       "7                                     0.5 SONA credit  \n",
       "8                                     0.5 SONA credit  \n",
       "9   \"Karpicke & Blunt (2011) - Prediction question...  \n",
       "10  \"Karpicke & Blunt (2011) - Prediction question...  \n",
       "11  \"Karpicke & Blunt (2011) - Concept map templat...  \n",
       "12  \"Karpicke & Blunt (2011) - Original idea units...  \n",
       "13  \"Karpicke & Blunt (2011) - Concept map templat...  \n",
       "14  \"Karpicke & Blunt (2011) - Original idea units...  \n",
       "15                                                NaN  \n",
       "16  \"Karpicke & Blunt (2011) - Retrieval practice ...  \n",
       "17  \"Karpicke & Blunt (2011) - Original idea units...  \n",
       "18  \"Karpicke & Blunt (2011) - Retrieval practice ...  \n",
       "19  \"Karpicke & Blunt (2011) - Original idea units...  \n",
       "20                                                NaN  \n",
       "21  \"Karpicke & Blunt (2011) - Retrieval practice ...  \n",
       "22  \"Karpicke & Blunt (2011) - Original idea units...  \n",
       "23  \"Karpicke & Blunt (2011) - Retrieval practice ...  \n",
       "24  \"Karpicke & Blunt (2011) - Original idea units...  \n",
       "25                                                NaN  \n",
       "26  \"Karpicke & Blunt (2011) - Original learning t...  \n",
       "27  \"Karpicke & Blunt (2011) - Original learning t...  \n",
       "28  \"Karpicke & Blunt (2011) - Original learning t...  \n",
       "29  \"Karpicke & Blunt (2011) - Original learning t...  \n",
       "30                                                NaN  \n",
       "31                                                NaN  \n",
       "32                                                NaN  \n",
       "33                                                NaN  "
      ]
     },
     "execution_count": 1,
     "metadata": {},
     "output_type": "execute_result"
    }
   ],
   "source": [
    "# READ IN THE DATA SET HERE\n",
    "import numpy as np\n",
    "import pandas as pd \n",
    "df = pd.read_csv(\"codebook.csv\")\n",
    "df"
   ]
  },
  {
   "cell_type": "markdown",
   "metadata": {
    "colab_type": "text",
    "id": "dK2K5TkivAlT"
   },
   "source": [
    "# Question 1\n",
    "\n",
    "Which group felt like they learned more: the subjects who made concept maps or the ones who practiced retrieval? (Or are they about the same?) Make an appropriate visualization and explain what you see.\n",
    "\n",
    "_Hint:_ Use the variable `PR.2`, which contains the participants' predictions of how well they would do on a test one week later. "
   ]
  },
  {
   "cell_type": "code",
   "execution_count": 2,
   "metadata": {
    "colab": {},
    "colab_type": "code",
    "id": "IMh2REXUvAlT"
   },
   "outputs": [
    {
     "name": "stdout",
     "output_type": "stream",
     "text": [
      "0    Concept\n",
      "1    Concept\n",
      "2    Concept\n",
      "3    Concept\n",
      "4    Concept\n",
      "Name: Condition, dtype: object\n",
      "\n",
      "0    0.80\n",
      "1    0.70\n",
      "2    0.70\n",
      "3    0.70\n",
      "4    0.95\n",
      "Name: PR.2, dtype: float64\n"
     ]
    }
   ],
   "source": [
    "# YOUR CODE HERE\n",
    "df = pd.read_csv(\"data.csv\")\n",
    "print(df['Condition'].head())\n",
    "print()\n",
    "print(df['PR.2'].head())"
   ]
  },
  {
   "cell_type": "code",
   "execution_count": 3,
   "metadata": {},
   "outputs": [
    {
     "data": {
      "text/plain": [
       "<matplotlib.axes._subplots.AxesSubplot at 0x7f9fce0b58b0>"
      ]
     },
     "execution_count": 3,
     "metadata": {},
     "output_type": "execute_result"
    },
    {
     "data": {
      "image/png": "[encoded data removed]",
      "text/plain": [
       "<Figure size 432x288 with 1 Axes>"
      ]
     },
     "metadata": {
      "needs_background": "light"
     },
     "output_type": "display_data"
    }
   ],
   "source": [
    "df.groupby('Condition')['PR.2'].mean().plot.bar()"
   ]
  },
  {
   "cell_type": "markdown",
   "metadata": {
    "colab_type": "text",
    "id": "TvM6_uHxvAlX"
   },
   "source": [
    "Subjects who made concept maps learned more, but only by a margin of 0.1"
   ]
  },
  {
   "cell_type": "markdown",
   "metadata": {
    "colab_type": "text",
    "id": "U5hlEgvzvAlY"
   },
   "source": [
    "# Question 2\n",
    "\n",
    "Which group actually did better on the follow-up learning test one week later? Make an appropriate visualization and explain what you see.\n",
    "\n",
    "_Hint:_ Don't ask which variable you should use. That is for you to figure out. Read the codebook carefully (consulting the [original paper](http://science.sciencemag.org/content/331/6018/772), if necessary), make an informed decision, and explain your choice."
   ]
  },
  {
   "cell_type": "code",
   "execution_count": 4,
   "metadata": {
    "colab": {},
    "colab_type": "code",
    "id": "9m-bnR0zvAlY"
   },
   "outputs": [
    {
     "data": {
      "text/plain": [
       "<matplotlib.axes._subplots.AxesSubplot at 0x7f9fce195d90>"
      ]
     },
     "execution_count": 4,
     "metadata": {},
     "output_type": "execute_result"
    },
    {
     "data": {
      "image/png": "[encoded data removed]",
      "text/plain": [
       "<Figure size 432x288 with 1 Axes>"
      ]
     },
     "metadata": {
      "needs_background": "light"
     },
     "output_type": "display_data"
    }
   ],
   "source": [
    "# YOUR CODE HERE\n",
    "df.groupby('Condition')['TS.avg'].mean().plot.bar()"
   ]
  },
  {
   "cell_type": "markdown",
   "metadata": {
    "colab_type": "text",
    "id": "BPPeUIC2vAlb"
   },
   "source": [
    "Subjects who practiced retrieval turned out to learn better "
   ]
  },
  {
   "cell_type": "markdown",
   "metadata": {
    "colab_type": "text",
    "id": "54XjgjwnvAlb"
   },
   "source": [
    "# Question 3\n",
    "\n",
    "How good were subjects at predicting how well they would do on the follow-up learning test? Calculate a measure of how well subjects predicted their performance and interpret the value in context. (Optionally, you may want to include a visualization as well.)"
   ]
  },
  {
   "cell_type": "code",
   "execution_count": 5,
   "metadata": {
    "colab": {},
    "colab_type": "code",
    "id": "71FljkvqvAlc"
   },
   "outputs": [],
   "source": [
    "# YOUR CODE HERE\n",
    "prediction_avg = df.pivot_table(index='Condition', values=['PR.2'], aggfunc=np.mean)"
   ]
  },
  {
   "cell_type": "code",
   "execution_count": 6,
   "metadata": {},
   "outputs": [],
   "source": [
    "prediction_avg1 = df.pivot_table(index='Condition', values=['TS.avg'], aggfunc=np.mean)"
   ]
  },
  {
   "cell_type": "code",
   "execution_count": 7,
   "metadata": {},
   "outputs": [
    {
     "data": {
      "text/plain": [
       "<matplotlib.axes._subplots.AxesSubplot at 0x7f9fce29fb20>"
      ]
     },
     "execution_count": 7,
     "metadata": {},
     "output_type": "execute_result"
    },
    {
     "data": {
      "image/png": "[encoded data removed]",
      "text/plain": [
       "<Figure size 432x288 with 1 Axes>"
      ]
     },
     "metadata": {
      "needs_background": "light"
     },
     "output_type": "display_data"
    }
   ],
   "source": [
    "new = pd.concat([prediction_avg, prediction_avg1], axis =1)\n",
    "new.plot.bar()"
   ]
  },
  {
   "cell_type": "markdown",
   "metadata": {
    "colab_type": "text",
    "id": "3EZ15Z6kvAle"
   },
   "source": [
    "**YOUR EXPLANATION HERE**"
   ]
  },
  {
   "cell_type": "markdown",
   "metadata": {
    "colab_type": "text",
    "id": "7iD39TKdvAlf"
   },
   "source": [
    "# Question 4\n",
    "\n",
    "This was a completely randomized experiment. This means that the condition that each subject was assigned to should be independent of their gender, age, and any other subject characteristics. Does that seem to be true in this case? Calculate a summary measure and/or make a visualization, and explain what you see."
   ]
  },
  {
   "cell_type": "code",
   "execution_count": 8,
   "metadata": {
    "colab": {},
    "colab_type": "code",
    "id": "nlw6JXpTvAlf"
   },
   "outputs": [],
   "source": [
    "# YOUR CODE HERE\n",
    "bar1 = df.pivot_table(index='Condition', columns=['Gender'], values=['ID'], aggfunc=\"count\")"
   ]
  },
  {
   "cell_type": "code",
   "execution_count": 9,
   "metadata": {},
   "outputs": [
    {
     "data": {
      "text/plain": [
       "<matplotlib.axes._subplots.AxesSubplot at 0x7f9fce3a10a0>"
      ]
     },
     "execution_count": 9,
     "metadata": {},
     "output_type": "execute_result"
    },
    {
     "data": {
      "image/png": "[encoded data removed]",
      "text/plain": [
       "<Figure size 432x288 with 1 Axes>"
      ]
     },
     "metadata": {
      "needs_background": "light"
     },
     "output_type": "display_data"
    }
   ],
   "source": [
    "bar1.plot.bar()"
   ]
  },
  {
   "cell_type": "code",
   "execution_count": 10,
   "metadata": {},
   "outputs": [
    {
     "data": {
      "text/plain": [
       "<matplotlib.axes._subplots.AxesSubplot at 0x7f9fcf4d6160>"
      ]
     },
     "execution_count": 10,
     "metadata": {},
     "output_type": "execute_result"
    },
    {
     "data": {
      "image/png": "[encoded data removed]",
      "text/plain": [
       "<Figure size 432x288 with 1 Axes>"
      ]
     },
     "metadata": {
      "needs_background": "light"
     },
     "output_type": "display_data"
    }
   ],
   "source": [
    "bar2 = df.pivot_table(index='Condition', columns=['Age'], values=['ID'], aggfunc=\"count\")\n",
    "bar2.plot.bar()"
   ]
  },
  {
   "cell_type": "markdown",
   "metadata": {
    "colab_type": "text",
    "id": "NVxo0YzpvAlm"
   },
   "source": [
    "**YOUR EXPLANATION HERE**"
   ]
  },
  {
   "cell_type": "markdown",
   "metadata": {
    "colab_type": "text",
    "id": "eJ67dulfvAlm"
   },
   "source": [
    "# Submission Instructions\n",
    "\n",
    "Once you are finished, follow these steps:\n",
    "\n",
    "1. Restart the kernel and re-run this notebook from beginning to end by going to `Kernel > Restart Kernel and Run All Cells`.\n",
    "2. If this process stops halfway through, that means there was an error. Correct the error and repeat Step 1 until the notebook runs from beginning to end.\n",
    "3. Double check that there is a number next to each code cell and that these numbers are in order.\n",
    "\n",
    "Then, submit your lab as follows:\n",
    "\n",
    "1. Go to `File > Export Notebook As > PDF`.\n",
    "2. Double check that the entire notebook, from beginning to end, is in this PDF file. (If the notebook is cut off, try first exporting the notebook to HTML and printing to PDF.)\n",
    "3. Upload the PDF to Gradescope and Notebook (ipynb) to iLearn."
   ]
  }
 ],
 "metadata": {
  "colab": {
   "name": "3C. Retrieval Practice and Learning.ipynb",
   "provenance": []
  },
  "kernelspec": {
   "display_name": "Python 3",
   "language": "python",
   "name": "python3"
  },
  "language_info": {
   "codemirror_mode": {
    "name": "ipython",
    "version": 3
   },
   "file_extension": ".py",
   "mimetype": "text/x-python",
   "name": "python",
   "nbconvert_exporter": "python",
   "pygments_lexer": "ipython3",
   "version": "3.8.3"
  }
 },
 "nbformat": 4,
 "nbformat_minor": 4
}
